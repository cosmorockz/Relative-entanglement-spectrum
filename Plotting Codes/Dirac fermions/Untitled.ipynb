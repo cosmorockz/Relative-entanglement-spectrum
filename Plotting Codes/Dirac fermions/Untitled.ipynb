{
 "cells": [
  {
   "cell_type": "code",
   "execution_count": 1,
   "metadata": {},
   "outputs": [],
   "source": [
    "import numpy as np\n",
    "import mpmath as mp"
   ]
  },
  {
   "cell_type": "code",
   "execution_count": 2,
   "metadata": {},
   "outputs": [],
   "source": [
    "import matplotlib.pyplot as plt"
   ]
  },
  {
   "cell_type": "code",
   "execution_count": 24,
   "metadata": {},
   "outputs": [],
   "source": [
    "n_cutoff = 10\n",
    "en_const = 1\n",
    "m_z = 2"
   ]
  },
  {
   "cell_type": "code",
   "execution_count": 25,
   "metadata": {},
   "outputs": [],
   "source": [
    "M_ES, E_ES = np.loadtxt(\"ES_DF_m_\"+str(m_z)+\"_cutoff_\"+str(n_cutoff)+\".dat\",usecols=(0,1),unpack=True)"
   ]
  },
  {
   "cell_type": "code",
   "execution_count": 26,
   "metadata": {},
   "outputs": [],
   "source": [
    "def energy_init(la,n):\n",
    "    temp = en_const * la * n\n",
    "    return temp\n",
    "\n",
    "def energy(la,n):\n",
    "\tif la == -1:\n",
    "\t\ten = -np.sqrt((en_const*n)**2 + m_z**2)\n",
    "\tif la == 1:\n",
    "\t\ten = np.sqrt((en_const*n)**2 + m_z**2)\n",
    "\treturn en"
   ]
  },
  {
   "cell_type": "code",
   "execution_count": 27,
   "metadata": {},
   "outputs": [],
   "source": [
    "Q = 0\n",
    "Q_down = Q - 0.5\n",
    "Q_up = Q + 0.5\n",
    "mu = 0\n",
    "l_max = Q_down+n_cutoff\n",
    "mm = [-l_max+i for i in range(int(2*l_max+1))]\n",
    "\n",
    "MM = []\n",
    "EE = []\n",
    "for m in mm:\n",
    "    M = 2 * np.abs(m)\n",
    "    N = 2 * n_cutoff\n",
    "    s = int((N-M+1)/2)\n",
    "    for i in range(s):\n",
    "        EE.append(energy(-1,n_cutoff-i))\n",
    "        MM.append(m)\n",
    "        EE.append(energy(1,n_cutoff-i))\n",
    "        MM.append(m)"
   ]
  },
  {
   "cell_type": "code",
   "execution_count": 28,
   "metadata": {},
   "outputs": [
    {
     "data": {
      "image/png": "[encoded data removed]",
      "text/plain": [
       "<Figure size 432x288 with 1 Axes>"
      ]
     },
     "metadata": {
      "needs_background": "light"
     },
     "output_type": "display_data"
    }
   ],
   "source": [
    "SMALL_SIZE = 20\n",
    "MEDIUM_SIZE = 30\n",
    "BIGGER_SIZE = 20\n",
    "\n",
    "plt.rc('font', size=SMALL_SIZE)          # controls default text sizes\n",
    "plt.rc('axes', titlesize=MEDIUM_SIZE)     # fontsize of the axes title\n",
    "plt.rc('axes', labelsize=MEDIUM_SIZE)    # fontsize of the x and y labels\n",
    "plt.rc('xtick', labelsize=SMALL_SIZE)    # fontsize of the tick labels\n",
    "plt.rc('ytick', labelsize=SMALL_SIZE)    # fontsize of the tick labels\n",
    "plt.rc('legend', fontsize=SMALL_SIZE)    # legend fontsize\n",
    "plt.rc('figure', titlesize=BIGGER_SIZE)  # fontsize of the figure title\n",
    "\n",
    "plt.rc('axes', axisbelow=True)\n",
    "\n",
    "fig,ax1 = plt.subplots(1,1,sharex=True,sharey=True)\n",
    "ax = fig.gca()\n",
    "ax1.grid(which='both')\n",
    "# Major ticks every 20, minor ticks every 5\n",
    "\n",
    "xmajor_ticks = np.arange(-10, 20, 10)\n",
    "xminor_ticks = np.arange(-10, 15, 5)\n",
    "ymajor_ticks = np.arange(0, 1.5, 0.5)\n",
    "yminor_ticks = np.arange(0, 1.25, 0.25)\n",
    "\n",
    "\n",
    "# xmajor_ticks = np.arange(-10, 20, 10)\n",
    "# xminor_ticks = np.arange(-10, 15, 5)\n",
    "# ymajor_ticks = np.arange(-20, 30, 10)\n",
    "# yminor_ticks = np.arange(-20, 25, 5)\n",
    "\n",
    "ax.set_xticks(xmajor_ticks)\n",
    "ax.set_xticks(xminor_ticks, minor=True)\n",
    "ax.set_yticks(ymajor_ticks)\n",
    "ax.set_yticks(yminor_ticks, minor=True)\n",
    "\n",
    "ax1.yaxis.set_tick_params(width=2, length=5)\n",
    "ax1.xaxis.set_tick_params(width=2, length=5)\n",
    "for axes in ['top', 'bottom', 'left', 'right']:\n",
    "    ax1.spines[axes].set_linewidth(0.5)\n",
    "\n",
    "# left, bottom, width, height = [0.18, 0.66, 0.2, 0.2]\n",
    "# ax2 = fig.add_axes([left, bottom, width, height])\n",
    "# ax2.scatter(MM,EE,s=1,color=\"green\")\n",
    "# ax2.set_xticks([])\n",
    "# ax2.set_yticks([])\n",
    "# ax2.set_xlabel(\"$m$\")\n",
    "# ax2.set_ylabel(\"$E$\")\n",
    "\n",
    "ax1.scatter(M_ES,E_ES,s=24,color=\"#2E4272\")\n",
    "ax1.set_xlabel(\"$m$\",color=\"#061539\")\n",
    "ax1.set_ylabel(\"$\\lambda$\",color=\"#061539\")\n",
    "# plt.xlabel(\"m\",color=\"#061539\")\n",
    "plt.savefig(\"DF_\"+str(m_z)+\"Cutoff\"+str(n_cutoff)+\".pdf\",bbox_inches=\"tight\",pad_inches=0.4)\n",
    "plt.show()"
   ]
  },
  {
   "cell_type": "code",
   "execution_count": 70,
   "metadata": {},
   "outputs": [
    {
     "data": {
      "image/png": "[encoded data removed]",
      "text/plain": [
       "<Figure size 432x288 with 2 Axes>"
      ]
     },
     "metadata": {
      "needs_background": "light"
     },
     "output_type": "display_data"
    }
   ],
   "source": [
    "SMALL_SIZE = 10\n",
    "MEDIUM_SIZE = 15\n",
    "BIGGER_SIZE = 20\n",
    "\n",
    "plt.rc('font', size=SMALL_SIZE)          # controls default text sizes\n",
    "plt.rc('axes', titlesize=MEDIUM_SIZE)     # fontsize of the axes title\n",
    "plt.rc('axes', labelsize=MEDIUM_SIZE)    # fontsize of the x and y labels\n",
    "plt.rc('xtick', labelsize=SMALL_SIZE)    # fontsize of the tick labels\n",
    "plt.rc('ytick', labelsize=SMALL_SIZE)    # fontsize of the tick labels\n",
    "plt.rc('legend', fontsize=SMALL_SIZE)    # legend fontsize\n",
    "plt.rc('figure', titlesize=BIGGER_SIZE)  # fontsize of the figure title\n",
    "\n",
    "plt.rc('axes', axisbelow=True)\n",
    "\n",
    "fig,ax1 = plt.subplots(1,1,sharex=True,sharey=True)\n",
    "ax = fig.gca()\n",
    "ax1.grid(which='both')\n",
    "# Major ticks every 20, minor ticks every 5\n",
    "xmajor_ticks = np.arange(-10, 15, 10)\n",
    "xminor_ticks = np.arange(-10, 15, 2.5)\n",
    "ymajor_ticks = np.arange(-25, 50, 25)\n",
    "yminor_ticks = np.arange(-30, 60, 10)\n",
    "\n",
    "ax.set_xticks(xmajor_ticks)\n",
    "ax.set_xticks(xminor_ticks, minor=True)\n",
    "ax.set_yticks(ymajor_ticks)\n",
    "ax.set_yticks(yminor_ticks, minor=True)\n",
    "\n",
    "ax1.yaxis.set_tick_params(width=2, length=5)\n",
    "ax1.xaxis.set_tick_params(width=2, length=5)\n",
    "for axes in ['top', 'bottom', 'left', 'right']:\n",
    "    ax1.spines[axes].set_linewidth(0.5)\n",
    "\n",
    "left, bottom, width, height = [0.2, 0.66, 0.2, 0.2]\n",
    "ax2 = fig.add_axes([left, bottom, width, height])\n",
    "ax2.scatter(MM,EE)\n",
    "ax2.set_xticks([])\n",
    "ax2.set_yticks([])\n",
    "\n",
    "ax1.scatter(M_ES,E_ES,s=24,color=\"#2E4272\")\n",
    "ax1.set_ylabel(\"$\\epsilon$\",color=\"#061539\")\n",
    "ax1.set_xlabel(\"$m$\",color=\"#061539\")\n",
    "# plt.xlabel(\"m\",color=\"#061539\")\n",
    "plt.savefig(\"DF_.pdf\",bbox_inches=\"tight\",pad_inches=0.4)\n",
    "plt.show()"
   ]
  },
  {
   "cell_type": "code",
   "execution_count": null,
   "metadata": {},
   "outputs": [],
   "source": []
  },
  {
   "cell_type": "code",
   "execution_count": null,
   "metadata": {},
   "outputs": [],
   "source": []
  },
  {
   "cell_type": "code",
   "execution_count": null,
   "metadata": {},
   "outputs": [],
   "source": []
  },
  {
   "cell_type": "code",
   "execution_count": null,
   "metadata": {},
   "outputs": [],
   "source": []
  }
 ],
 "metadata": {
  "kernelspec": {
   "display_name": "Python 3",
   "language": "python",
   "name": "python3"
  },
  "language_info": {
   "codemirror_mode": {
    "name": "ipython",
    "version": 3
   },
   "file_extension": ".py",
   "mimetype": "text/x-python",
   "name": "python",
   "nbconvert_exporter": "python",
   "pygments_lexer": "ipython3",
   "version": "3.8.3"
  }
 },
 "nbformat": 4,
 "nbformat_minor": 4
}
