{
 "cells": [
  {
   "cell_type": "code",
   "execution_count": 1,
   "metadata": {},
   "outputs": [],
   "source": [
    "import numpy as np\n",
    "import matplotlib.pyplot as plt"
   ]
  },
  {
   "cell_type": "code",
   "execution_count": 2,
   "metadata": {},
   "outputs": [],
   "source": [
    "mz = 2\n",
    "Mz1 = 4\n",
    "Mz2 = - 4\n",
    "delPair1 = 0\n",
    "delPair2 = 1\n",
    "cutoff = 4"
   ]
  },
  {
   "cell_type": "code",
   "execution_count": 3,
   "metadata": {},
   "outputs": [],
   "source": [
    "MU1, EU1 = np.loadtxt(\"./PlotDataTorus/Datamz\"+str(mz)+\"Mz\"+str(Mz1)+\"delPair\"+str(delPair1)+\"nyCutoff\"+str(cutoff)+\".dat\",usecols=(0,1),unpack=True)\n",
    "MU2, EU2 = np.loadtxt(\"./PlotDataTorus/Datamz\"+str(mz)+\"Mz\"+str(Mz2)+\"delPair\"+str(delPair1)+\"nyCutoff\"+str(cutoff)+\".dat\",usecols=(0,1),unpack=True)"
   ]
  },
  {
   "cell_type": "code",
   "execution_count": 4,
   "metadata": {},
   "outputs": [],
   "source": [
    "MU3, EU3 = np.loadtxt(\"./PlotDataTorus/Datamz\"+str(mz)+\"Mz\"+str(Mz2)+\"delPair\"+str(delPair2)+\"nyCutoff\"+str(cutoff)+\".dat\",usecols=(0,1),unpack=True)\n",
    "# im = plt.imread(\"vertical.PNG\")"
   ]
  },
  {
   "cell_type": "code",
   "execution_count": 12,
   "metadata": {},
   "outputs": [
    {
     "data": {
      "image/png": "[encoded data removed]",
      "text/plain": [
       "<Figure size 576x216 with 3 Axes>"
      ]
     },
     "metadata": {
      "needs_background": "light"
     },
     "output_type": "display_data"
    }
   ],
   "source": [
    "SMALL_SIZE = 20\n",
    "MEDIUM_SIZE = 18\n",
    "BIGGER_SIZE = 20\n",
    "\n",
    "plt.rc('font', size=SMALL_SIZE)          # controls default text sizes\n",
    "plt.rc('axes', titlesize=MEDIUM_SIZE)     # fontsize of the axes title\n",
    "plt.rc('axes', labelsize=MEDIUM_SIZE)    # fontsize of the x and y labels\n",
    "plt.rc('xtick', labelsize=SMALL_SIZE)    # fontsize of the tick labels\n",
    "plt.rc('ytick', labelsize=SMALL_SIZE)    # fontsize of the tick labels\n",
    "plt.rc('legend', fontsize=SMALL_SIZE)    # legend fontsize\n",
    "plt.rc('figure', titlesize=BIGGER_SIZE)  # fontsize of the figure title\n",
    "\n",
    "plt.rc('axes', axisbelow=True)\n",
    "\n",
    "fig,[ax1,ax2,ax3] = plt.subplots(1,3,sharex=True,sharey=True,figsize=(8,3),constrained_layout=True)\n",
    "fig.set_constrained_layout_pads(w_pad=4 / 72, h_pad=4 / 72, hspace=0.2, wspace=0)\n",
    "# ax = fig.gca()\n",
    "# # Major ticks every 20, minor ticks every 5\n",
    "# xmajor_ticks = [0]\n",
    "# # xminor_ticks = np.arange(-10, 15, 2.5)\n",
    "# ymajor_ticks = np.arange(0, 1.5, 0.5)\n",
    "# yminor_ticks = np.arange(0, 1.5, 0.25)\n",
    "\n",
    "# ax.set_xticks(xmajor_ticks)\n",
    "# # ax.set_xticks(xminor_ticks, minor=True)\n",
    "# ax.set_yticks(ymajor_ticks)\n",
    "# ax.set_yticks(yminor_ticks, minor=True)\n",
    "\n",
    "# '''Plot Imag'''\n",
    "# ax4.imshow(im)\n",
    "# ax4.axis(\"off\")\n",
    "\n",
    "# ax4.text(-0.12,1.08,\"(a)\",fontsize=20,fontweight=\"bold\",va=\"top\",ha=\"right\")\n",
    "\n",
    "'''Plot 1'''\n",
    "\n",
    "# ax = fig.gca()\n",
    "# Major ticks every 20, minor ticks every 5\n",
    "xmajor_ticks = []\n",
    "xminor_ticks = np.arange(-10, 15, 2.5)\n",
    "ymajor_ticks = np.arange(0, 1.5, 0.5)\n",
    "yminor_ticks = np.arange(0, 1.5, 0.25)\n",
    "\n",
    "ax1.set_xticks(xmajor_ticks)\n",
    "ax.set_xticks(xminor_ticks, minor=True)\n",
    "ax1.set_yticks(ymajor_ticks)\n",
    "ax1.set_yticks(yminor_ticks, minor=True)\n",
    "\n",
    "ax1.grid(which='both')\n",
    "ax1.yaxis.set_tick_params(width=2, length=5)\n",
    "ax1.xaxis.set_tick_params(width=2, length=5)\n",
    "for axes in ['top', 'bottom', 'left', 'right']:\n",
    "    ax1.spines[axes].set_linewidth(0.5)\n",
    "\n",
    "# left, bottom, width, height = [0.2, 0.76, 0.6, 0.6]\n",
    "# ax2 = fig.add_axes([left, bottom, width, height])\n",
    "# ax2.imshow(im)\n",
    "# ax2.axis(\"off\")\n",
    "# ax2.scatter(MM,EE,s=1,color=\"green\")\n",
    "# ax2.set_xticks([])\n",
    "# ax2.set_yticks([])\n",
    "# ax2.set_xlabel(\"$m$\")\n",
    "# ax2.set_ylabel(\"$E$\")\n",
    "\n",
    "ax1.scatter(MU1,EU1,s=24,color=\"#2E4272\")\n",
    "ax1.set_xlabel(\"$\\ell$\",color=\"#061539\")\n",
    "ax1.set_ylabel(\"$\\lambda$\",color=\"#061539\")\n",
    "ax1.text(-0.09,1.08,\"(a)\",fontsize=20,fontweight=\"bold\",va=\"top\",ha=\"right\")\n",
    "\n",
    "'''Plot 2'''\n",
    "\n",
    "# ax = fig.gca()\n",
    "# Major ticks every 20, minor ticks every 5\n",
    "xmajor_ticks = [0]\n",
    "# xminor_ticks = np.arange(-10, 15, 2.5)\n",
    "ymajor_ticks = []\n",
    "yminor_ticks = np.arange(0, 1.5, 0.25)\n",
    "\n",
    "ax2.set_xticks(xmajor_ticks)\n",
    "# ax.set_xticks(xminor_ticks, minor=True)\n",
    "# ax2.set_yticks(ymajor_ticks)\n",
    "# ax2.set_yticks(yminor_ticks, minor=True)\n",
    "\n",
    "ax2.grid(which='both')\n",
    "ax2.yaxis.set_tick_params(width=2, length=5)\n",
    "ax2.xaxis.set_tick_params(width=2, length=5)\n",
    "for axes in ['top', 'bottom', 'left', 'right']:\n",
    "    ax2.spines[axes].set_linewidth(0.5)\n",
    "\n",
    "# left, bottom, width, height = [0.2, 0.76, 0.6, 0.6]\n",
    "# ax2 = fig.add_axes([left, bottom, width, height])\n",
    "# ax2.imshow(im)\n",
    "# ax2.axis(\"off\")\n",
    "# ax2.scatter(MM,EE,s=1,color=\"green\")\n",
    "# ax2.set_xticks([])\n",
    "# ax2.set_yticks([])\n",
    "# ax2.set_xlabel(\"$m$\")\n",
    "# ax2.set_ylabel(\"$E$\")\n",
    "\n",
    "ax2.scatter(MU2,EU2,s=24,color=\"#2E4272\")\n",
    "ax2.set_xlabel(\"$\\ell$\",color=\"#061539\")\n",
    "# ax2.set_ylabel(\"$\\lambda$\",color=\"#061539\")\n",
    "ax2.text(-0.07,1.08,\"(b)\",fontsize=20,fontweight=\"bold\",va=\"top\",ha=\"right\")\n",
    "\n",
    "'''Plot 3'''\n",
    "\n",
    "xmajor_ticks = [0]\n",
    "# xminor_ticks = np.arange(-10, 15, 2.5)\n",
    "ymajor_ticks = []\n",
    "yminor_ticks = np.arange(0, 1.5, 0.25)\n",
    "\n",
    "ax3.set_xticks(xmajor_ticks)\n",
    "# ax.set_xticks(xminor_ticks, minor=True)\n",
    "# ax3.set_yticks(ymajor_ticks)\n",
    "# ax3.set_yticks(yminor_ticks, minor=True)\n",
    "\n",
    "ax3.grid(which='both')\n",
    "ax3.yaxis.set_tick_params(width=2, length=5)\n",
    "ax3.xaxis.set_tick_params(width=2, length=5)\n",
    "for axes in ['top', 'bottom', 'left', 'right']:\n",
    "    ax3.spines[axes].set_linewidth(0.5)\n",
    "\n",
    "# left, bottom, width, height = [0.2, 0.76, 0.6, 0.6]\n",
    "# ax2 = fig.add_axes([left, bottom, width, height])\n",
    "# ax2.imshow(im)\n",
    "# ax2.axis(\"off\")\n",
    "# ax2.scatter(MM,EE,s=1,color=\"green\")\n",
    "# ax2.set_xticks([])\n",
    "# ax2.set_yticks([])\n",
    "# ax2.set_xlabel(\"$m$\")\n",
    "# ax2.set_ylabel(\"$E$\")\n",
    "\n",
    "ax3.scatter(MU3,EU3,s=24,color=\"#2E4272\")\n",
    "ax3.set_xlabel(\"$\\ell$\",color=\"#061539\")\n",
    "# ax3.set_ylabel(\"$\\lambda$\",color=\"#061539\")\n",
    "ax3.text(-0.07,1.08,\"(c)\",fontsize=20,fontweight=\"bold\",va=\"top\",ha=\"right\")\n",
    "\n",
    "plt.savefig(\"RelESTorusPlots.pdf\",bbox_inches=\"tight\",pad_inches=0.4,dpi=300)\n",
    "plt.show()"
   ]
  },
  {
   "cell_type": "code",
   "execution_count": null,
   "metadata": {},
   "outputs": [],
   "source": []
  },
  {
   "cell_type": "code",
   "execution_count": null,
   "metadata": {},
   "outputs": [],
   "source": []
  },
  {
   "cell_type": "code",
   "execution_count": null,
   "metadata": {},
   "outputs": [],
   "source": []
  },
  {
   "cell_type": "code",
   "execution_count": null,
   "metadata": {},
   "outputs": [],
   "source": []
  }
 ],
 "metadata": {
  "kernelspec": {
   "display_name": "Python 3",
   "language": "python",
   "name": "python3"
  },
  "language_info": {
   "codemirror_mode": {
    "name": "ipython",
    "version": 3
   },
   "file_extension": ".py",
   "mimetype": "text/x-python",
   "name": "python",
   "nbconvert_exporter": "python",
   "pygments_lexer": "ipython3",
   "version": "3.8.3"
  }
 },
 "nbformat": 4,
 "nbformat_minor": 4
}
