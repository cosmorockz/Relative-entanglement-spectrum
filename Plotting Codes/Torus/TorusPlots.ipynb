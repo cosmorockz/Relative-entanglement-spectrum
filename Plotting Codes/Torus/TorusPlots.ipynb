{
 "cells": [
  {
   "cell_type": "code",
   "execution_count": 1,
   "metadata": {},
   "outputs": [],
   "source": [
    "import numpy as np\n",
    "import matplotlib.pyplot as plt"
   ]
  },
  {
   "cell_type": "code",
   "execution_count": 35,
   "metadata": {},
   "outputs": [],
   "source": [
    "mz = 2\n",
    "Mz = - 4\n",
    "delPair = 0\n",
    "cutoff = 4"
   ]
  },
  {
   "cell_type": "code",
   "execution_count": 36,
   "metadata": {},
   "outputs": [],
   "source": [
    "MU, EU = np.loadtxt(\"./PlotDataTorus/Datamz\"+str(mz)+\"Mz\"+str(Mz)+\"nyCutoff\"+str(cutoff)+\".dat\",usecols=(0,1),unpack=True)"
   ]
  },
  {
   "cell_type": "code",
   "execution_count": 37,
   "metadata": {},
   "outputs": [
    {
     "data": {
      "image/png": "[encoded data removed]",
      "text/plain": [
       "<Figure size 144x288 with 1 Axes>"
      ]
     },
     "metadata": {
      "needs_background": "light"
     },
     "output_type": "display_data"
    }
   ],
   "source": [
    "SMALL_SIZE = 20\n",
    "MEDIUM_SIZE = 30\n",
    "BIGGER_SIZE = 20\n",
    "\n",
    "plt.rc('font', size=SMALL_SIZE)          # controls default text sizes\n",
    "plt.rc('axes', titlesize=MEDIUM_SIZE)     # fontsize of the axes title\n",
    "plt.rc('axes', labelsize=MEDIUM_SIZE)    # fontsize of the x and y labels\n",
    "plt.rc('xtick', labelsize=SMALL_SIZE)    # fontsize of the tick labels\n",
    "plt.rc('ytick', labelsize=SMALL_SIZE)    # fontsize of the tick labels\n",
    "plt.rc('legend', fontsize=SMALL_SIZE)    # legend fontsize\n",
    "plt.rc('figure', titlesize=BIGGER_SIZE)  # fontsize of the figure title\n",
    "\n",
    "plt.rc('axes', axisbelow=True)\n",
    "\n",
    "fig,ax1 = plt.subplots(1,1,sharex=True,sharey=True,figsize=(2,4))\n",
    "ax = fig.gca()\n",
    "ax1.grid(which='both')\n",
    "# Major ticks every 20, minor ticks every 5\n",
    "xmajor_ticks = []\n",
    "xminor_ticks = []\n",
    "ymajor_ticks = np.arange(0, 1.5, 0.5)\n",
    "yminor_ticks = np.arange(0, 1.125, 0.125)\n",
    "\n",
    "ax.set_xticks(xmajor_ticks)\n",
    "ax.set_xticks(xminor_ticks, minor=True)\n",
    "ax.set_yticks(ymajor_ticks)\n",
    "ax.set_yticks(yminor_ticks, minor=True)\n",
    "\n",
    "ax1.yaxis.set_tick_params(width=2, length=5)\n",
    "ax1.xaxis.set_tick_params(width=2, length=5)\n",
    "for axes in ['top', 'bottom', 'left', 'right']:\n",
    "    ax1.spines[axes].set_linewidth(0.5)\n",
    "\n",
    "# left, bottom, width, height = [0.2, 0.66, 0.2, 0.2]\n",
    "# ax2 = fig.add_axes([left, bottom, width, height])\n",
    "# ax2.scatter(MM,EE)\n",
    "# ax2.set_xticks([])\n",
    "# ax2.set_yticks([])\n",
    "\n",
    "ax1.scatter(MU,EU,s=24,color=\"#2E4272\",label=\"$U=1$\")\n",
    "# ax1.scatter(MK,EK,s=24,color=\"red\",alpha=0.2,label=\"$Z=1$\")\n",
    "ax1.set_ylabel(\"$\\epsilon'$\",color=\"#061539\")\n",
    "ax1.set_xlabel(\"$m$\",color=\"#061539\")\n",
    "ax1.set_ylim(-0.1,1.1)\n",
    "# ax1.set_xlim(-5,5)\n",
    "# ax1.legend()\n",
    "# plt.xlabel(\"m\",color=\"#061539\")\n",
    "plt.savefig(\"mz\"+str(mz)+\"Mz\"+str(Mz)+\"Cutoff\"+str(cutoff)+\".pdf\",bbox_inches=\"tight\",pad_inches=0.4)\n",
    "plt.show()"
   ]
  },
  {
   "cell_type": "code",
   "execution_count": null,
   "metadata": {},
   "outputs": [],
   "source": []
  },
  {
   "cell_type": "code",
   "execution_count": null,
   "metadata": {},
   "outputs": [],
   "source": []
  },
  {
   "cell_type": "code",
   "execution_count": null,
   "metadata": {},
   "outputs": [],
   "source": []
  },
  {
   "cell_type": "code",
   "execution_count": null,
   "metadata": {},
   "outputs": [],
   "source": []
  }
 ],
 "metadata": {
  "kernelspec": {
   "display_name": "Python 3",
   "language": "python",
   "name": "python3"
  },
  "language_info": {
   "codemirror_mode": {
    "name": "ipython",
    "version": 3
   },
   "file_extension": ".py",
   "mimetype": "text/x-python",
   "name": "python",
   "nbconvert_exporter": "python",
   "pygments_lexer": "ipython3",
   "version": "3.7.4"
  }
 },
 "nbformat": 4,
 "nbformat_minor": 4
}
