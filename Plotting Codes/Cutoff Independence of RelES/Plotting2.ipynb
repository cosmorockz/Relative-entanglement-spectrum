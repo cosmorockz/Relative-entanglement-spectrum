{
 "cells": [
  {
   "cell_type": "code",
   "execution_count": 1,
   "metadata": {},
   "outputs": [],
   "source": [
    "import numpy as np\n",
    "import mpmath as mp"
   ]
  },
  {
   "cell_type": "code",
   "execution_count": 2,
   "metadata": {},
   "outputs": [],
   "source": [
    "import matplotlib.pyplot as plt"
   ]
  },
  {
   "cell_type": "code",
   "execution_count": 19,
   "metadata": {},
   "outputs": [],
   "source": [
    "M1 = 2\n",
    "M2 = - 2\n",
    "cutoff = 20\n",
    "MM, E = np.loadtxt(\"M1_\"+str(M1)+\"M2_\"+str(M2)+\"Cutoff\"+str(cutoff)+\".dat\",usecols=(0,1),unpack=True)"
   ]
  },
  {
   "cell_type": "code",
   "execution_count": 20,
   "metadata": {},
   "outputs": [
    {
     "data": {
      "image/png": "[encoded data removed]",
      "text/plain": [
       "<Figure size 432x288 with 1 Axes>"
      ]
     },
     "metadata": {
      "needs_background": "light"
     },
     "output_type": "display_data"
    }
   ],
   "source": [
    "SMALL_SIZE = 20\n",
    "MEDIUM_SIZE = 30\n",
    "BIGGER_SIZE = 20\n",
    "\n",
    "plt.rc('font', size=SMALL_SIZE)          # controls default text sizes\n",
    "plt.rc('axes', titlesize=MEDIUM_SIZE)     # fontsize of the axes title\n",
    "plt.rc('axes', labelsize=MEDIUM_SIZE)    # fontsize of the x and y labels\n",
    "plt.rc('xtick', labelsize=SMALL_SIZE)    # fontsize of the tick labels\n",
    "plt.rc('ytick', labelsize=SMALL_SIZE)    # fontsize of the tick labels\n",
    "plt.rc('legend', fontsize=SMALL_SIZE)    # legend fontsize\n",
    "plt.rc('figure', titlesize=BIGGER_SIZE)  # fontsize of the figure title\n",
    "\n",
    "plt.rc('axes', axisbelow=True)\n",
    "\n",
    "fig,ax1 = plt.subplots(1,1,sharex=True,sharey=True)\n",
    "ax = fig.gca()\n",
    "ax1.grid(which='both')\n",
    "# Major ticks every 20, minor ticks every 5\n",
    "xmajor_ticks = np.arange(-5, 10, 5)\n",
    "xminor_ticks = np.arange(-5, 10, 2.5)\n",
    "ymajor_ticks = np.arange(0, 1.5, 0.5)\n",
    "yminor_ticks = np.arange(0, 1.5, 0.25)\n",
    "\n",
    "ax.set_xticks(xmajor_ticks)\n",
    "ax.set_xticks(xminor_ticks, minor=True)\n",
    "ax.set_yticks(ymajor_ticks)\n",
    "ax.set_yticks(yminor_ticks, minor=True)\n",
    "\n",
    "ax1.yaxis.set_tick_params(width=2, length=5)\n",
    "ax1.xaxis.set_tick_params(width=2, length=5)\n",
    "for axes in ['top', 'bottom', 'left', 'right']:\n",
    "    ax1.spines[axes].set_linewidth(0.5)\n",
    "\n",
    "# left, bottom, width, height = [0.2, 0.76, 0.6, 0.6]\n",
    "# ax2 = fig.add_axes([left, bottom, width, height])\n",
    "# ax2.imshow(im)\n",
    "# ax2.axis(\"off\")\n",
    "# ax2.scatter(MM,EE,s=1,color=\"green\")\n",
    "# ax2.set_xticks([])\n",
    "# ax2.set_yticks([])\n",
    "# ax2.set_xlabel(\"$m$\")\n",
    "# ax2.set_ylabel(\"$E$\")\n",
    "\n",
    "ax1.scatter(MM,E,s=24,color=\"#2E4272\")\n",
    "ax1.set_xlabel(\"$m$\",color=\"#061539\")\n",
    "ax1.set_ylabel(\"$\\lambda$\",color=\"#061539\")\n",
    "plt.xlim(-5,5)\n",
    "plt.ylim(-0.04,1.04)\n",
    "# plt.xlabel(\"m\",color=\"#061539\")\n",
    "plt.savefig(\"M1_\"+str(M1)+\"M2_\"+str(M2)+\"Cutoff\"+str(cutoff)+\".pdf\",bbox_inches=\"tight\",pad_inches=0.4,dpi=300)\n",
    "plt.show()"
   ]
  },
  {
   "cell_type": "code",
   "execution_count": 8,
   "metadata": {},
   "outputs": [
    {
     "data": {
      "text/plain": [
       "array([-0.5, -0.5, -0.5, -0.5,  0.5,  0.5,  0.5,  0.5])"
      ]
     },
     "execution_count": 8,
     "metadata": {},
     "output_type": "execute_result"
    }
   ],
   "source": [
    "MM"
   ]
  },
  {
   "cell_type": "code",
   "execution_count": null,
   "metadata": {},
   "outputs": [],
   "source": []
  },
  {
   "cell_type": "code",
   "execution_count": null,
   "metadata": {},
   "outputs": [],
   "source": []
  },
  {
   "cell_type": "code",
   "execution_count": null,
   "metadata": {},
   "outputs": [],
   "source": []
  },
  {
   "cell_type": "code",
   "execution_count": null,
   "metadata": {},
   "outputs": [],
   "source": []
  }
 ],
 "metadata": {
  "kernelspec": {
   "display_name": "Python 3",
   "language": "python",
   "name": "python3"
  },
  "language_info": {
   "codemirror_mode": {
    "name": "ipython",
    "version": 3
   },
   "file_extension": ".py",
   "mimetype": "text/x-python",
   "name": "python",
   "nbconvert_exporter": "python",
   "pygments_lexer": "ipython3",
   "version": "3.7.4"
  }
 },
 "nbformat": 4,
 "nbformat_minor": 4
}
