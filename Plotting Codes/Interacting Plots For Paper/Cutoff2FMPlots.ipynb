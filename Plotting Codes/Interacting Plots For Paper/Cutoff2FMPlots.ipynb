{
 "cells": [
  {
   "cell_type": "code",
   "execution_count": 1,
   "metadata": {},
   "outputs": [],
   "source": [
    "import numpy as np\n",
    "import matplotlib.pyplot as plt"
   ]
  },
  {
   "cell_type": "code",
   "execution_count": 2,
   "metadata": {},
   "outputs": [],
   "source": [
    "MU, EU = np.loadtxt(\"./DataPlot/RelEScutoff2mz-1U15.dat\",usecols=(0,1),unpack=True)"
   ]
  },
  {
   "cell_type": "code",
   "execution_count": 3,
   "metadata": {},
   "outputs": [],
   "source": [
    "MK, EK = np.loadtxt(\"./DataPlot/RelEScutoff2mz-1Z1.dat\",usecols=(0,1),unpack=True)"
   ]
  },
  {
   "cell_type": "code",
   "execution_count": 5,
   "metadata": {},
   "outputs": [
    {
     "data": {
      "image/png": "[encoded data removed]",
      "text/plain": [
       "<Figure size 432x288 with 1 Axes>"
      ]
     },
     "metadata": {
      "needs_background": "light"
     },
     "output_type": "display_data"
    }
   ],
   "source": [
    "SMALL_SIZE = 20\n",
    "MEDIUM_SIZE = 20\n",
    "BIGGER_SIZE = 20\n",
    "\n",
    "plt.rc('font', size=SMALL_SIZE)          # controls default text sizes\n",
    "plt.rc('axes', titlesize=MEDIUM_SIZE)     # fontsize of the axes title\n",
    "plt.rc('axes', labelsize=MEDIUM_SIZE)    # fontsize of the x and y labels\n",
    "plt.rc('xtick', labelsize=SMALL_SIZE)    # fontsize of the tick labels\n",
    "plt.rc('ytick', labelsize=SMALL_SIZE)    # fontsize of the tick labels\n",
    "plt.rc('legend', fontsize=SMALL_SIZE)    # legend fontsize\n",
    "plt.rc('figure', titlesize=BIGGER_SIZE)  # fontsize of the figure title\n",
    "\n",
    "plt.rc('axes', axisbelow=True)\n",
    "\n",
    "fig,ax1 = plt.subplots(1,1,sharex=True,sharey=True)\n",
    "ax = fig.gca()\n",
    "ax1.grid(which='both')\n",
    "# Major ticks every 20, minor ticks every 5\n",
    "xmajor_ticks = np.arange(-5, 10, 5)\n",
    "xminor_ticks = np.arange(-5, 10, 1.25)\n",
    "ymajor_ticks = np.arange(0, 15, 5)\n",
    "yminor_ticks = np.arange(0, 15, 1.25)\n",
    "\n",
    "ax.set_xticks(xmajor_ticks)\n",
    "ax.set_xticks(xminor_ticks, minor=True)\n",
    "ax.set_yticks(ymajor_ticks)\n",
    "ax.set_yticks(yminor_ticks, minor=True)\n",
    "\n",
    "ax1.yaxis.set_tick_params(width=2, length=5)\n",
    "ax1.xaxis.set_tick_params(width=2, length=5)\n",
    "for axes in ['top', 'bottom', 'left', 'right']:\n",
    "    ax1.spines[axes].set_linewidth(0.5)\n",
    "\n",
    "# left, bottom, width, height = [0.2, 0.66, 0.2, 0.2]\n",
    "# ax2 = fig.add_axes([left, bottom, width, height])\n",
    "# ax2.scatter(MM,EE)\n",
    "# ax2.set_xticks([])\n",
    "# ax2.set_yticks([])\n",
    "\n",
    "ax1.scatter(MU,EU,s=24,color=\"#2E4272\",label=\"$U=15$\")\n",
    "# ax1.scatter(MK,EK,s=24,color=\"red\",alpha=0.2,label=\"$Z=1$\")\n",
    "ax1.set_ylabel(\"$\\epsilon'$\",color=\"#061539\")\n",
    "ax1.set_xlabel(\"$L_z^T$\",color=\"#061539\")\n",
    "ax1.set_ylim(-1,10)\n",
    "ax1.set_xlim(-5,5)\n",
    "# ax1.legend()\n",
    "# plt.xlabel(\"m\",color=\"#061539\")\n",
    "plt.savefig(\"mz-1U15Z1.pdf\",bbox_inches=\"tight\",pad_inches=0.4)\n",
    "plt.show()"
   ]
  },
  {
   "cell_type": "code",
   "execution_count": 6,
   "metadata": {},
   "outputs": [],
   "source": [
    "MU, EU = np.loadtxt(\"./DataPlot/RelEScutoff2mz1U15.dat\",usecols=(0,1),unpack=True)"
   ]
  },
  {
   "cell_type": "code",
   "execution_count": 7,
   "metadata": {},
   "outputs": [
    {
     "data": {
      "image/png": "[encoded data removed]",
      "text/plain": [
       "<Figure size 432x288 with 1 Axes>"
      ]
     },
     "metadata": {
      "needs_background": "light"
     },
     "output_type": "display_data"
    }
   ],
   "source": [
    "SMALL_SIZE = 20\n",
    "MEDIUM_SIZE = 20\n",
    "BIGGER_SIZE = 20\n",
    "\n",
    "plt.rc('font', size=SMALL_SIZE)          # controls default text sizes\n",
    "plt.rc('axes', titlesize=MEDIUM_SIZE)     # fontsize of the axes title\n",
    "plt.rc('axes', labelsize=MEDIUM_SIZE)    # fontsize of the x and y labels\n",
    "plt.rc('xtick', labelsize=SMALL_SIZE)    # fontsize of the tick labels\n",
    "plt.rc('ytick', labelsize=SMALL_SIZE)    # fontsize of the tick labels\n",
    "plt.rc('legend', fontsize=SMALL_SIZE)    # legend fontsize\n",
    "plt.rc('figure', titlesize=BIGGER_SIZE)  # fontsize of the figure title\n",
    "\n",
    "plt.rc('axes', axisbelow=True)\n",
    "\n",
    "fig,ax1 = plt.subplots(1,1,sharex=True,sharey=True)\n",
    "ax = fig.gca()\n",
    "ax1.grid(which='both')\n",
    "# Major ticks every 20, minor ticks every 5\n",
    "xmajor_ticks = np.arange(-5, 10, 5)\n",
    "xminor_ticks = np.arange(-5, 10, 1.25)\n",
    "ymajor_ticks = np.arange(0, 15, 5)\n",
    "yminor_ticks = np.arange(0, 15, 1.25)\n",
    "\n",
    "ax.set_xticks(xmajor_ticks)\n",
    "ax.set_xticks(xminor_ticks, minor=True)\n",
    "ax.set_yticks(ymajor_ticks)\n",
    "ax.set_yticks(yminor_ticks, minor=True)\n",
    "\n",
    "ax1.yaxis.set_tick_params(width=2, length=5)\n",
    "ax1.xaxis.set_tick_params(width=2, length=5)\n",
    "for axes in ['top', 'bottom', 'left', 'right']:\n",
    "    ax1.spines[axes].set_linewidth(0.5)\n",
    "\n",
    "# left, bottom, width, height = [0.2, 0.66, 0.2, 0.2]\n",
    "# ax2 = fig.add_axes([left, bottom, width, height])\n",
    "# ax2.scatter(MM,EE)\n",
    "# ax2.set_xticks([])\n",
    "# ax2.set_yticks([])\n",
    "\n",
    "ax1.scatter(MU,EU,s=24,color=\"#2E4272\",label=\"$U=1$\")\n",
    "# ax1.scatter(MK,EK,s=24,color=\"red\",alpha=0.2,label=\"$Z=1$\")\n",
    "ax1.set_ylabel(\"$\\epsilon'$\",color=\"#061539\")\n",
    "ax1.set_xlabel(\"$L_z^T$\",color=\"#061539\")\n",
    "ax1.set_ylim(-1,10)\n",
    "ax1.set_xlim(-5,5)\n",
    "# ax1.legend()\n",
    "# plt.xlabel(\"m\",color=\"#061539\")\n",
    "plt.savefig(\"mz1U15.pdf\",bbox_inches=\"tight\",pad_inches=0.4)\n",
    "plt.show()"
   ]
  },
  {
   "cell_type": "code",
   "execution_count": 8,
   "metadata": {},
   "outputs": [],
   "source": [
    "MU, EU = np.loadtxt(\"./DataPlot/RelEScutoff2mz1Mz2.dat\",usecols=(0,1),unpack=True)"
   ]
  },
  {
   "cell_type": "code",
   "execution_count": 9,
   "metadata": {},
   "outputs": [
    {
     "data": {
      "image/png": "[encoded data removed]",
      "text/plain": [
       "<Figure size 432x288 with 1 Axes>"
      ]
     },
     "metadata": {
      "needs_background": "light"
     },
     "output_type": "display_data"
    }
   ],
   "source": [
    "SMALL_SIZE = 20\n",
    "MEDIUM_SIZE = 20\n",
    "BIGGER_SIZE = 20\n",
    "\n",
    "plt.rc('font', size=SMALL_SIZE)          # controls default text sizes\n",
    "plt.rc('axes', titlesize=MEDIUM_SIZE)     # fontsize of the axes title\n",
    "plt.rc('axes', labelsize=MEDIUM_SIZE)    # fontsize of the x and y labels\n",
    "plt.rc('xtick', labelsize=SMALL_SIZE)    # fontsize of the tick labels\n",
    "plt.rc('ytick', labelsize=SMALL_SIZE)    # fontsize of the tick labels\n",
    "plt.rc('legend', fontsize=SMALL_SIZE)    # legend fontsize\n",
    "plt.rc('figure', titlesize=BIGGER_SIZE)  # fontsize of the figure title\n",
    "\n",
    "plt.rc('axes', axisbelow=True)\n",
    "\n",
    "fig,ax1 = plt.subplots(1,1,sharex=True,sharey=True)\n",
    "ax = fig.gca()\n",
    "ax1.grid(which='both')\n",
    "# Major ticks every 20, minor ticks every 5\n",
    "xmajor_ticks = np.arange(-5, 10, 5)\n",
    "xminor_ticks = np.arange(-5, 10, 1.25)\n",
    "ymajor_ticks = np.arange(0, 15, 5)\n",
    "yminor_ticks = np.arange(0, 15, 1.25)\n",
    "\n",
    "ax.set_xticks(xmajor_ticks)\n",
    "ax.set_xticks(xminor_ticks, minor=True)\n",
    "ax.set_yticks(ymajor_ticks)\n",
    "ax.set_yticks(yminor_ticks, minor=True)\n",
    "\n",
    "ax1.yaxis.set_tick_params(width=2, length=5)\n",
    "ax1.xaxis.set_tick_params(width=2, length=5)\n",
    "for axes in ['top', 'bottom', 'left', 'right']:\n",
    "    ax1.spines[axes].set_linewidth(0.5)\n",
    "\n",
    "# left, bottom, width, height = [0.2, 0.66, 0.2, 0.2]\n",
    "# ax2 = fig.add_axes([left, bottom, width, height])\n",
    "# ax2.scatter(MM,EE)\n",
    "# ax2.set_xticks([])\n",
    "# ax2.set_yticks([])\n",
    "\n",
    "ax1.scatter(MU,EU,s=24,color=\"#2E4272\",label=\"$U=1$\")\n",
    "# ax1.scatter(MK,EK,s=24,color=\"red\",alpha=0.2,label=\"$Z=1$\")\n",
    "ax1.set_ylabel(\"$\\epsilon'$\",color=\"#061539\")\n",
    "ax1.set_xlabel(\"$L_z^T$\",color=\"#061539\")\n",
    "ax1.set_ylim(-1,10)\n",
    "ax1.set_xlim(-5,5)\n",
    "# ax1.legend()\n",
    "# plt.xlabel(\"m\",color=\"#061539\")\n",
    "plt.savefig(\"mz1Mz2.pdf\",bbox_inches=\"tight\",pad_inches=0.4)\n",
    "plt.show()"
   ]
  },
  {
   "cell_type": "code",
   "execution_count": 10,
   "metadata": {},
   "outputs": [],
   "source": [
    "MU, EU = np.loadtxt(\"./DataPlot/RelEScutoff2mz-1Mz2.dat\",usecols=(0,1),unpack=True)"
   ]
  },
  {
   "cell_type": "code",
   "execution_count": 11,
   "metadata": {},
   "outputs": [
    {
     "data": {
      "image/png": "[encoded data removed]",
      "text/plain": [
       "<Figure size 432x288 with 1 Axes>"
      ]
     },
     "metadata": {
      "needs_background": "light"
     },
     "output_type": "display_data"
    }
   ],
   "source": [
    "SMALL_SIZE = 20\n",
    "MEDIUM_SIZE = 20\n",
    "BIGGER_SIZE = 20\n",
    "\n",
    "plt.rc('font', size=SMALL_SIZE)          # controls default text sizes\n",
    "plt.rc('axes', titlesize=MEDIUM_SIZE)     # fontsize of the axes title\n",
    "plt.rc('axes', labelsize=MEDIUM_SIZE)    # fontsize of the x and y labels\n",
    "plt.rc('xtick', labelsize=SMALL_SIZE)    # fontsize of the tick labels\n",
    "plt.rc('ytick', labelsize=SMALL_SIZE)    # fontsize of the tick labels\n",
    "plt.rc('legend', fontsize=SMALL_SIZE)    # legend fontsize\n",
    "plt.rc('figure', titlesize=BIGGER_SIZE)  # fontsize of the figure title\n",
    "\n",
    "plt.rc('axes', axisbelow=True)\n",
    "\n",
    "fig,ax1 = plt.subplots(1,1,sharex=True,sharey=True)\n",
    "ax = fig.gca()\n",
    "ax1.grid(which='both')\n",
    "# Major ticks every 20, minor ticks every 5\n",
    "xmajor_ticks = np.arange(-5, 10, 5)\n",
    "xminor_ticks = np.arange(-5, 10, 1.25)\n",
    "ymajor_ticks = np.arange(0, 15, 5)\n",
    "yminor_ticks = np.arange(0, 15, 1.25)\n",
    "\n",
    "ax.set_xticks(xmajor_ticks)\n",
    "ax.set_xticks(xminor_ticks, minor=True)\n",
    "ax.set_yticks(ymajor_ticks)\n",
    "ax.set_yticks(yminor_ticks, minor=True)\n",
    "\n",
    "ax1.yaxis.set_tick_params(width=2, length=5)\n",
    "ax1.xaxis.set_tick_params(width=2, length=5)\n",
    "for axes in ['top', 'bottom', 'left', 'right']:\n",
    "    ax1.spines[axes].set_linewidth(0.5)\n",
    "\n",
    "# left, bottom, width, height = [0.2, 0.66, 0.2, 0.2]\n",
    "# ax2 = fig.add_axes([left, bottom, width, height])\n",
    "# ax2.scatter(MM,EE)\n",
    "# ax2.set_xticks([])\n",
    "# ax2.set_yticks([])\n",
    "\n",
    "ax1.scatter(MU,EU,s=24,color=\"#2E4272\",label=\"$U=1$\")\n",
    "# ax1.scatter(MK,EK,s=24,color=\"red\",alpha=0.2,label=\"$Z=1$\")\n",
    "ax1.set_ylabel(\"$\\epsilon'$\",color=\"#061539\")\n",
    "ax1.set_xlabel(\"$L_z^T$\",color=\"#061539\")\n",
    "ax1.set_ylim(-1,10)\n",
    "ax1.set_xlim(-5,5)\n",
    "# ax1.legend()\n",
    "# plt.xlabel(\"m\",color=\"#061539\")\n",
    "plt.savefig(\"mz-1Mz2.pdf\",bbox_inches=\"tight\",pad_inches=0.4)\n",
    "plt.show()"
   ]
  },
  {
   "cell_type": "code",
   "execution_count": null,
   "metadata": {},
   "outputs": [],
   "source": []
  },
  {
   "cell_type": "code",
   "execution_count": null,
   "metadata": {},
   "outputs": [],
   "source": []
  },
  {
   "cell_type": "code",
   "execution_count": null,
   "metadata": {},
   "outputs": [],
   "source": []
  },
  {
   "cell_type": "code",
   "execution_count": null,
   "metadata": {},
   "outputs": [],
   "source": []
  }
 ],
 "metadata": {
  "kernelspec": {
   "display_name": "Python 3",
   "language": "python",
   "name": "python3"
  },
  "language_info": {
   "codemirror_mode": {
    "name": "ipython",
    "version": 3
   },
   "file_extension": ".py",
   "mimetype": "text/x-python",
   "name": "python",
   "nbconvert_exporter": "python",
   "pygments_lexer": "ipython3",
   "version": "3.7.4"
  }
 },
 "nbformat": 4,
 "nbformat_minor": 4
}
