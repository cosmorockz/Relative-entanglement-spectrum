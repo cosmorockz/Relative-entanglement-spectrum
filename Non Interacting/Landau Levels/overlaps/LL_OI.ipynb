{
 "cells": [
  {
   "cell_type": "code",
   "execution_count": 22,
   "metadata": {},
   "outputs": [],
   "source": [
    "import numpy as np\n",
    "from mpmath import *\n",
    "import csv"
   ]
  },
  {
   "cell_type": "code",
   "execution_count": 23,
   "metadata": {},
   "outputs": [],
   "source": [
    "mp.dps = 30\n",
    "\n",
    "\n",
    "def SLL_normalization(Q, l, m):\n",
    "    # Normalization constant for the Spherical Landau Level\n",
    "    # Only depends on the charge Q, Landau level l and angular momentum m\n",
    "    return sqrt(((2*l+1)/(4*pi)) * binomial(2*l, l-Q)/binomial(2*l, l-m))\n",
    "\n",
    "\n",
    "def SLL(theta, phi, Q, l, m):\n",
    "    # Spherical Landau Level\n",
    "    # Q is the charge, l is the Landau level, m is the angular momentum\n",
    "    # this function outputs the value (complex number) of the SLL wavefunction at a specified angular coordinate\n",
    "    u = cos(theta/2)  # * np.exp(1j*phi/2)\n",
    "    v = sin(theta/2)  # * np.exp(-1j*phi/2)\n",
    "    pre = SLL_normalization(Q, l, m) * (-1)**(l-m) * \\\n",
    "        v**(Q-m) * u**(Q+m)  # part before the summation\n",
    "    # part inside the summation\n",
    "    sum_part = 0\n",
    "    for s in range(0, np.int(l-m+1)):\n",
    "        if (l-Q >= s) and (l+Q >= l-m-s):\n",
    "            sum_part += (-1)**s * binomial(l-Q, s) * binomial(l+Q, l-m-s) * \\\n",
    "                (v*v)**(l-Q-s) * (u*u)**s\n",
    "    wf = pre * sum_part  # total wavefunction\n",
    "    return wf\n",
    "\n",
    "def overlap_integrand(theta, Q, l1, l2, m):\n",
    "    wf1 = SLL(theta,0,Q,l1,m)\n",
    "    wf2 = SLL(theta,0,Q,l2,m)\n",
    "    x = 2 * pi * sin(theta) *( wf1 * wf2 )\n",
    "    return x\n",
    "\n",
    "def overlap_integral(Q, l1, l2, m, theta_cut):\n",
    "    x = quad(lambda theta: overlap_integrand(\n",
    "        theta, Q, l1, l2, m), [0, theta_cut])\n",
    "    return x"
   ]
  },
  {
   "cell_type": "code",
   "execution_count": 31,
   "metadata": {},
   "outputs": [],
   "source": [
    "def OI_file_generator(Q):\n",
    "    l_max = Q+10\n",
    "    theta_cut = pi/2\n",
    "    M = [-l_max+i for i in range(2*l_max+1)]\n",
    "    data = {}\n",
    "    for m in M:\n",
    "        n_ll = l_max - Q + 1\n",
    "        N = l_max - np.abs(m) + 1\n",
    "        if N >= n_ll:\n",
    "            for i in range(n_ll):\n",
    "                for j in range(n_ll):\n",
    "                    key = str(Q+i)+str(',')+str(Q+j)+str(',')+str(m)\n",
    "                    value = overlap_integral(Q, Q+i, Q+j, m, theta_cut)\n",
    "                    data[key] = value\n",
    "        elif N <= n_ll:\n",
    "            for i in range(N):\n",
    "                for j in range(N):\n",
    "                    key = str(np.abs(m)+i)+str(',')+str(np.abs(m)+j)+str(',')+str(m)\n",
    "                    value = overlap_integral(Q, np.abs(m)+i, np.abs(m)+j, m, theta_cut)\n",
    "                    data[key] = value\n",
    "\n",
    "    with open('LL_OI_Q_'+str(Q)+'.csv', 'w') as csv_file:  \n",
    "        writer = csv.writer(csv_file)\n",
    "        for key, value in data.items():\n",
    "           writer.writerow([key, value])\n",
    "    return None"
   ]
  },
  {
   "cell_type": "code",
   "execution_count": 33,
   "metadata": {},
   "outputs": [
    {
     "name": "stdout",
     "output_type": "stream",
     "text": [
      "1\n",
      "2\n",
      "3\n",
      "4\n",
      "5\n",
      "6\n",
      "7\n",
      "8\n",
      "9\n",
      "10\n",
      "11\n",
      "12\n",
      "13\n",
      "14\n",
      "15\n",
      "16\n",
      "17\n",
      "18\n",
      "19\n",
      "20\n"
     ]
    }
   ],
   "source": [
    "for i in range(1,21):\n",
    "    print(i)"
   ]
  },
  {
   "cell_type": "code",
   "execution_count": 24,
   "metadata": {},
   "outputs": [],
   "source": [
    "Q = 1\n",
    "l_max = Q+2\n",
    "theta_cut = pi/2\n",
    "M = [-l_max+i for i in range(2*l_max+1)]"
   ]
  },
  {
   "cell_type": "code",
   "execution_count": 25,
   "metadata": {},
   "outputs": [],
   "source": [
    "O = overlap_matrix(Q,l_max,M[4],theta_cut)"
   ]
  },
  {
   "cell_type": "code",
   "execution_count": 26,
   "metadata": {},
   "outputs": [
    {
     "data": {
      "text/plain": [
       "1"
      ]
     },
     "execution_count": 26,
     "metadata": {},
     "output_type": "execute_result"
    }
   ],
   "source": [
    "M[4]"
   ]
  },
  {
   "cell_type": "code",
   "execution_count": 28,
   "metadata": {},
   "outputs": [],
   "source": [
    "data = {}\n",
    "for m in M:\n",
    "    n_ll = l_max - Q + 1\n",
    "    N = l_max - np.abs(m) + 1\n",
    "    if N >= n_ll:\n",
    "        for i in range(n_ll):\n",
    "            for j in range(n_ll):\n",
    "                key = str(Q+i)+str(',')+str(Q+j)+str(',')+str(m)\n",
    "                value = overlap_integral(Q, Q+i, Q+j, m, theta_cut)\n",
    "                data[key] = value\n",
    "    elif N <= n_ll:\n",
    "        for i in range(N):\n",
    "            for j in range(N):\n",
    "                key = str(np.abs(m)+i)+str(',')+str(np.abs(m)+j)+str(',')+str(m)\n",
    "                value = overlap_integral(Q, np.abs(m)+i, np.abs(m)+j, m, theta_cut)\n",
    "                data[key] = value\n",
    "\n",
    "with open('LL_OI_Q_'+str(Q)+'.csv', 'w') as csv_file:  \n",
    "    writer = csv.writer(csv_file)\n",
    "    for key, value in data.items():\n",
    "       writer.writerow([key, value])"
   ]
  },
  {
   "cell_type": "code",
   "execution_count": 19,
   "metadata": {},
   "outputs": [
    {
     "data": {
      "text/plain": [
       "{'3,3,-3': mpf('0.226562499999999999999999999999926'),\n",
       " '2,2,-2': mpf('0.187499999999999999999999999999951'),\n",
       " '2,3,-2': mpf('0.292316983341714170748730369712193'),\n",
       " '3,2,-2': mpf('0.292316983341714170748730369712193'),\n",
       " '3,3,-2': mpf('0.499999999999999999999999999999951'),\n",
       " '1,1,-1': mpf('0.124999999999999999999999999999963'),\n",
       " '1,2,-1': mpf('0.242061459137963555323704087486364'),\n",
       " '1,3,-1': mpf('0.143205490467370000205876474804006'),\n",
       " '2,1,-1': mpf('0.242061459137963555323704087486364'),\n",
       " '2,2,-1': mpf('0.499999999999999999999999999999951'),\n",
       " '2,3,-1': mpf('0.369754986443726002660458018222605'),\n",
       " '3,1,-1': mpf('0.143205490467370000205876474804006'),\n",
       " '3,2,-1': mpf('0.369754986443726002660458018222605'),\n",
       " '3,3,-1': mpf('0.4453125'),\n",
       " '1,1,0': mpf('0.499999999999999999999999999999951'),\n",
       " '1,2,0': mpf('0.419262745781210568076720062887122'),\n",
       " '1,3,0': mpf('5.95131926189529066857074422688112e-32'),\n",
       " '2,1,0': mpf('0.419262745781210568076720062887122'),\n",
       " '2,2,0': mpf('0.5'),\n",
       " '2,3,0': mpf('0.261456258291898608743178758057857'),\n",
       " '3,1,0': mpf('5.95131926189529066857074422688112e-32'),\n",
       " '3,2,0': mpf('0.261456258291898608743178758057857'),\n",
       " '3,3,0': mpf('0.499999999999999999999999999999951'),\n",
       " '1,1,1': mpf('0.875'),\n",
       " '1,2,1': mpf('0.242061459137963555323704087486438'),\n",
       " '1,3,1': mpf('-0.143205490467370000205876474803981'),\n",
       " '2,1,1': mpf('0.242061459137963555323704087486438'),\n",
       " '2,2,1': mpf('0.499999999999999999999999999999951'),\n",
       " '2,3,1': mpf('0.369754986443726002660458018222605'),\n",
       " '3,1,1': mpf('-0.143205490467370000205876474803981'),\n",
       " '3,2,1': mpf('0.369754986443726002660458018222605'),\n",
       " '3,3,1': mpf('0.5546875'),\n",
       " '2,2,2': mpf('0.812499999999999999999999999999901'),\n",
       " '2,3,2': mpf('0.292316983341714170748730369712292'),\n",
       " '3,2,2': mpf('0.292316983341714170748730369712292'),\n",
       " '3,3,2': mpf('0.499999999999999999999999999999951'),\n",
       " '3,3,3': mpf('0.773437499999999999999999999999901')}"
      ]
     },
     "execution_count": 19,
     "metadata": {},
     "output_type": "execute_result"
    }
   ],
   "source": [
    "data"
   ]
  },
  {
   "cell_type": "code",
   "execution_count": null,
   "metadata": {},
   "outputs": [],
   "source": []
  },
  {
   "cell_type": "code",
   "execution_count": null,
   "metadata": {},
   "outputs": [],
   "source": []
  },
  {
   "cell_type": "code",
   "execution_count": null,
   "metadata": {},
   "outputs": [],
   "source": []
  },
  {
   "cell_type": "code",
   "execution_count": null,
   "metadata": {},
   "outputs": [],
   "source": []
  }
 ],
 "metadata": {
  "kernelspec": {
   "display_name": "Python 3",
   "language": "python",
   "name": "python3"
  },
  "language_info": {
   "codemirror_mode": {
    "name": "ipython",
    "version": 3
   },
   "file_extension": ".py",
   "mimetype": "text/x-python",
   "name": "python",
   "nbconvert_exporter": "python",
   "pygments_lexer": "ipython3",
   "version": "3.8.3"
  }
 },
 "nbformat": 4,
 "nbformat_minor": 4
}
